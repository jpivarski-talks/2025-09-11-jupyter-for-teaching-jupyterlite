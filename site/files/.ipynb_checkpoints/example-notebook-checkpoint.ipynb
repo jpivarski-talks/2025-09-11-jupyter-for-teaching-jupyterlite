{
 "cells": [
  {
   "cell_type": "markdown",
   "id": "2ea27022-8d97-4d4e-b583-61798dd4c3a4",
   "metadata": {},
   "source": [
    "This is an example notebook, intended to demonstrate that you're running Jupyter and your requested packages are installed."
   ]
  },
  {
   "cell_type": "code",
   "execution_count": null,
   "id": "c2a778a4-db6d-4a35-8cca-25038aeb6596",
   "metadata": {},
   "outputs": [],
   "source": [
    "import piplite"
   ]
  },
  {
   "cell_type": "code",
   "execution_count": null,
   "id": "b7b1b0e1-f7f2-41ce-8615-0a0de5faec52",
   "metadata": {},
   "outputs": [],
   "source": [
    "await piplite.install(\"numpy\")\n",
    "await piplite.install(\"pandas\")\n",
    "await piplite.install(\"matplotlib\")\n",
    "await piplite.install(\"sklearn\")"
   ]
  },
  {
   "cell_type": "code",
   "execution_count": null,
   "id": "db644fff-a21c-46a8-ae2f-d60a85809daf",
   "metadata": {},
   "outputs": [],
   "source": [
    "import numpy as np\n",
    "import pandas as pd\n",
    "import matplotlib.pyplot as plt\n",
    "import sklearn"
   ]
  }
 ],
 "metadata": {
  "kernelspec": {
   "display_name": "Python 3 (ipykernel)",
   "language": "python",
   "name": "python3"
  },
  "language_info": {
   "codemirror_mode": {
    "name": "ipython",
    "version": 3
   },
   "file_extension": ".py",
   "mimetype": "text/x-python",
   "name": "python",
   "nbconvert_exporter": "python",
   "pygments_lexer": "ipython3",
   "version": "3.12.11"
  }
 },
 "nbformat": 4,
 "nbformat_minor": 5
}
